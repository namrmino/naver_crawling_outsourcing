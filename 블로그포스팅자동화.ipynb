{
 "cells": [
  {
   "cell_type": "code",
   "execution_count": null,
   "metadata": {},
   "outputs": [],
   "source": [
    "from selenium import webdriver\n",
    "from selenium.webdriver.common.by import By\n",
    "from selenium.webdriver.support.ui import WebDriverWait\n",
    "from selenium.webdriver.support import expected_conditions as EC\n",
    "import time"
   ]
  },
  {
   "cell_type": "code",
   "execution_count": null,
   "metadata": {
    "scrolled": true
   },
   "outputs": [],
   "source": [
    "# chrome창(웹드라이버) 열기\n",
    "driver = webdriver.Chrome(\"./chromedriver\")\n",
    "\n",
    "# 네이버 페이지 크롬으로 열기\n",
    "url = 'https://section.blog.naver.com/'\n",
    "driver.get(url)\n",
    "\n",
    "# 네이버 로그인\n",
    "driver.find_element_by_xpath('//*[@id=\"container\"]/div/aside/div/div[1]/div[1]/div/a').click()\n",
    "driver.execute_script(\"document.getElementById('id').value = '***'\")\n",
    "driver.execute_script(\"document.getElementById('pw').value = '***'\")\n",
    "driver.find_element_by_xpath('//*[@id=\"log.login\"]').click()\n",
    "driver.implicitly_wait(time_to_wait=5)\n",
    "\n",
    "# 네이버 블로그 접속\n",
    "driver.find_element_by_xpath('//*[@id=\"container\"]/div/aside/div/div[1]/nav/a[2]').click()\n",
    "driver.implicitly_wait(time_to_wait=7)\n",
    "xpath = '//*[@id=\"SE-024f7ef4-e183-4585-8ec1-84be21973e19\"]'\n",
    "driver.find_element_by_xpath(xpath).click()\n",
    "driver.find_element_by_xpath(xpath).send_keys('test')"
   ]
  },
  {
   "cell_type": "code",
   "execution_count": null,
   "metadata": {},
   "outputs": [],
   "source": []
  },
  {
   "cell_type": "code",
   "execution_count": null,
   "metadata": {},
   "outputs": [],
   "source": []
  },
  {
   "cell_type": "code",
   "execution_count": null,
   "metadata": {},
   "outputs": [],
   "source": []
  },
  {
   "cell_type": "code",
   "execution_count": null,
   "metadata": {},
   "outputs": [],
   "source": []
  },
  {
   "cell_type": "code",
   "execution_count": null,
   "metadata": {},
   "outputs": [],
   "source": []
  },
  {
   "cell_type": "code",
   "execution_count": null,
   "metadata": {},
   "outputs": [],
   "source": [
    "# html 다운로드 및 BeautifulSoup으로 읽기\n",
    "from bs4 import BeautifulSoup\n",
    "html = driver.page_source\n",
    "soup = BeautifulSoup(html, 'html.parser')"
   ]
  },
  {
   "cell_type": "code",
   "execution_count": null,
   "metadata": {},
   "outputs": [],
   "source": []
  }
 ],
 "metadata": {
  "kernelspec": {
   "display_name": "Python 3",
   "language": "python",
   "name": "python3"
  },
  "language_info": {
   "codemirror_mode": {
    "name": "ipython",
    "version": 3
   },
   "file_extension": ".py",
   "mimetype": "text/x-python",
   "name": "python",
   "nbconvert_exporter": "python",
   "pygments_lexer": "ipython3",
   "version": "3.8.6"
  }
 },
 "nbformat": 4,
 "nbformat_minor": 4
}
