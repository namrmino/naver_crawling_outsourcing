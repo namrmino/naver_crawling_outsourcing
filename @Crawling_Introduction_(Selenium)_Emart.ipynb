{
 "cells": [
  {
   "cell_type": "markdown",
   "metadata": {},
   "source": [
    "# Crawling & Scraping\n",
    "\n",
    "**Crawling : 웹 페이지의 하이퍼링크를 돌아다니며, 웹 페이지를 다운로드 하는 작업**\n",
    "\n",
    "**Scraping : 다운로드한 웹 페이지에서 필요한 정보를 추출하는 작업**\n",
    "\n",
    "\n",
    "\n",
    "1. Python에서 Crawling \n",
    "\n",
    "    - 언어적 특성 : 언어가 매우 쉬우며, 라이브러리를 활용할 수 있어, 바로 실무적인 사용이 가능하다. \n",
    "    - 라이브러리 활용도 : 객체지향적 특성을 가진 파이썬의 클래스를 이용해, 라이브러리의 기능을 극대화 하여 사용할 수 있다. (함수가 목록형이 아닌 독립적 객체로 사용이 가능한 형태) \n",
    "    - 스크레핑 후처리 편리성 : 수집한 데이터를 쉽게 정형데이터 형태로 변환이 가능하다. (Pandas / Numpy 라이브러리 활용) \n",
    "    \n",
    "\n",
    "2. Crawling에 사용되는 주요 Library\n",
    "\n",
    "    - Beautiful Soup : HTML & XML 문서 분석 라이브러리\n",
    "    - Selenium : Application Testing 라이브러리 \n",
    "    - Scrapy : API 및 클래스를 이용한 웹 데이터 수집 라이브러리 "
   ]
  },
  {
   "cell_type": "markdown",
   "metadata": {},
   "source": [
    "# Selenium "
   ]
  },
  {
   "cell_type": "markdown",
   "metadata": {},
   "source": [
    "## MacOS Install\n",
    "\n",
    "- 크롬 드라이버 다운로드\n",
    "    - 크롬 브라우져를 사용하기 위해 크롬 드라이버를 다운로드 \n",
    "    - 본인의 크롬 브라우져 버전에 맞는 드라이버를 다운로드\n",
    "        - 크롬 브라우져의 설정 -> 도움말 -> Chrome 정보를 확인\n",
    "    - https://sites.google.com/a/chromium.org/chromedriver/downloads\n",
    "\n",
    "- 경로 변경\n",
    "    - 크롬 드라이버를 글로벌하게 사용하기 위해서 경로를 변경해 줍니다. \n",
    "    - 경로를 수정하지 않으면 코드에서 크롬드라이버 경로를 항상 작성해 줘야 합니다.\n",
    "    - `$ mv ~/Download/chromedriver /usr/local/bin`\n",
    "\n",
    "- 셀레니움 파이썬 패키지 설치\n",
    "    - `$ sudo pip install selenium`\n",
    "    - `$ conda install -c conda-forge selenium`"
   ]
  },
  {
   "cell_type": "markdown",
   "metadata": {},
   "source": [
    "## Windows Install\n",
    "\n",
    "\n",
    "- 크롬 드라이버 다운로드\n",
    "    - 크롬 브라우져를 사용하기 위해 크롬 드라이버를 다운로드\n",
    "    - https://sites.google.com/a/chromium.org/chromedriver/downloads\n",
    "    - https://chromedriver.storage.googleapis.com/index.html?path=2.42/\n",
    "\n",
    "\n",
    "- 환경변수 추가\n",
    "    - 내컴퓨터 오른쪽 클릭 -> 속성 -> 고급시스템설정 -> 환경변수 -> 시스템변수의 Path 더블클릭 -> chromedriver path를\n",
    "추가\n",
    "    - 예: C:₩Users₩(사용자계정이름)₩chromdriver 으로 추가\n",
    "    - 환경변수 추가 후에도 드라이버가 실행되지 않는 경우에는 아래의 두가지 방법의 사용이 가능\n",
    "        - 크롬 드라이버 파일을 동일한 디렉토리에 위치해서 실행\n",
    "        - 크롬 드라이버를 호출하는 함수에 아규먼트로 크롬 드라이버의 파일경로를 추가\n",
    " \n",
    " \n",
    "- 셀레니움 파이썬 패키지 설치\n",
    "    - `$ conda install -c conda-forge selenium`\n",
    "    또는\n",
    "    - `$ pip install --user selenium`"
   ]
  },
  {
   "cell_type": "markdown",
   "metadata": {},
   "source": [
    "**기본 사용법**"
   ]
  },
  {
   "cell_type": "code",
   "execution_count": 1,
   "metadata": {},
   "outputs": [],
   "source": [
    "from selenium import webdriver"
   ]
  },
  {
   "cell_type": "code",
   "execution_count": 2,
   "metadata": {
    "collapsed": true,
    "jupyter": {
     "outputs_hidden": true
    }
   },
   "outputs": [
    {
     "ename": "SessionNotCreatedException",
     "evalue": "Message: session not created: This version of ChromeDriver only supports Chrome version 83\n",
     "output_type": "error",
     "traceback": [
      "\u001b[1;31m---------------------------------------------------------------------------\u001b[0m",
      "\u001b[1;31mSessionNotCreatedException\u001b[0m                Traceback (most recent call last)",
      "\u001b[1;32m<ipython-input-2-56f7822c5b3b>\u001b[0m in \u001b[0;36m<module>\u001b[1;34m\u001b[0m\n\u001b[0;32m      1\u001b[0m \u001b[1;31m# 드라이버를 실행하여, 웹페이지 열기\u001b[0m\u001b[1;33m\u001b[0m\u001b[1;33m\u001b[0m\u001b[1;33m\u001b[0m\u001b[0m\n\u001b[1;32m----> 2\u001b[1;33m \u001b[0mdriver\u001b[0m \u001b[1;33m=\u001b[0m \u001b[0mwebdriver\u001b[0m\u001b[1;33m.\u001b[0m\u001b[0mChrome\u001b[0m\u001b[1;33m(\u001b[0m\u001b[1;34m'chromedriver'\u001b[0m\u001b[1;33m)\u001b[0m\u001b[1;33m\u001b[0m\u001b[1;33m\u001b[0m\u001b[0m\n\u001b[0m",
      "\u001b[1;32m~\\AppData\\Roaming\\Python\\Python38\\site-packages\\selenium\\webdriver\\chrome\\webdriver.py\u001b[0m in \u001b[0;36m__init__\u001b[1;34m(self, executable_path, port, options, service_args, desired_capabilities, service_log_path, chrome_options, keep_alive)\u001b[0m\n\u001b[0;32m     74\u001b[0m \u001b[1;33m\u001b[0m\u001b[0m\n\u001b[0;32m     75\u001b[0m         \u001b[1;32mtry\u001b[0m\u001b[1;33m:\u001b[0m\u001b[1;33m\u001b[0m\u001b[1;33m\u001b[0m\u001b[0m\n\u001b[1;32m---> 76\u001b[1;33m             RemoteWebDriver.__init__(\n\u001b[0m\u001b[0;32m     77\u001b[0m                 \u001b[0mself\u001b[0m\u001b[1;33m,\u001b[0m\u001b[1;33m\u001b[0m\u001b[1;33m\u001b[0m\u001b[0m\n\u001b[0;32m     78\u001b[0m                 command_executor=ChromeRemoteConnection(\n",
      "\u001b[1;32m~\\AppData\\Roaming\\Python\\Python38\\site-packages\\selenium\\webdriver\\remote\\webdriver.py\u001b[0m in \u001b[0;36m__init__\u001b[1;34m(self, command_executor, desired_capabilities, browser_profile, proxy, keep_alive, file_detector, options)\u001b[0m\n\u001b[0;32m    155\u001b[0m             warnings.warn(\"Please use FirefoxOptions to set browser profile\",\n\u001b[0;32m    156\u001b[0m                           DeprecationWarning, stacklevel=2)\n\u001b[1;32m--> 157\u001b[1;33m         \u001b[0mself\u001b[0m\u001b[1;33m.\u001b[0m\u001b[0mstart_session\u001b[0m\u001b[1;33m(\u001b[0m\u001b[0mcapabilities\u001b[0m\u001b[1;33m,\u001b[0m \u001b[0mbrowser_profile\u001b[0m\u001b[1;33m)\u001b[0m\u001b[1;33m\u001b[0m\u001b[1;33m\u001b[0m\u001b[0m\n\u001b[0m\u001b[0;32m    158\u001b[0m         \u001b[0mself\u001b[0m\u001b[1;33m.\u001b[0m\u001b[0m_switch_to\u001b[0m \u001b[1;33m=\u001b[0m \u001b[0mSwitchTo\u001b[0m\u001b[1;33m(\u001b[0m\u001b[0mself\u001b[0m\u001b[1;33m)\u001b[0m\u001b[1;33m\u001b[0m\u001b[1;33m\u001b[0m\u001b[0m\n\u001b[0;32m    159\u001b[0m         \u001b[0mself\u001b[0m\u001b[1;33m.\u001b[0m\u001b[0m_mobile\u001b[0m \u001b[1;33m=\u001b[0m \u001b[0mMobile\u001b[0m\u001b[1;33m(\u001b[0m\u001b[0mself\u001b[0m\u001b[1;33m)\u001b[0m\u001b[1;33m\u001b[0m\u001b[1;33m\u001b[0m\u001b[0m\n",
      "\u001b[1;32m~\\AppData\\Roaming\\Python\\Python38\\site-packages\\selenium\\webdriver\\remote\\webdriver.py\u001b[0m in \u001b[0;36mstart_session\u001b[1;34m(self, capabilities, browser_profile)\u001b[0m\n\u001b[0;32m    250\u001b[0m         parameters = {\"capabilities\": w3c_caps,\n\u001b[0;32m    251\u001b[0m                       \"desiredCapabilities\": capabilities}\n\u001b[1;32m--> 252\u001b[1;33m         \u001b[0mresponse\u001b[0m \u001b[1;33m=\u001b[0m \u001b[0mself\u001b[0m\u001b[1;33m.\u001b[0m\u001b[0mexecute\u001b[0m\u001b[1;33m(\u001b[0m\u001b[0mCommand\u001b[0m\u001b[1;33m.\u001b[0m\u001b[0mNEW_SESSION\u001b[0m\u001b[1;33m,\u001b[0m \u001b[0mparameters\u001b[0m\u001b[1;33m)\u001b[0m\u001b[1;33m\u001b[0m\u001b[1;33m\u001b[0m\u001b[0m\n\u001b[0m\u001b[0;32m    253\u001b[0m         \u001b[1;32mif\u001b[0m \u001b[1;34m'sessionId'\u001b[0m \u001b[1;32mnot\u001b[0m \u001b[1;32min\u001b[0m \u001b[0mresponse\u001b[0m\u001b[1;33m:\u001b[0m\u001b[1;33m\u001b[0m\u001b[1;33m\u001b[0m\u001b[0m\n\u001b[0;32m    254\u001b[0m             \u001b[0mresponse\u001b[0m \u001b[1;33m=\u001b[0m \u001b[0mresponse\u001b[0m\u001b[1;33m[\u001b[0m\u001b[1;34m'value'\u001b[0m\u001b[1;33m]\u001b[0m\u001b[1;33m\u001b[0m\u001b[1;33m\u001b[0m\u001b[0m\n",
      "\u001b[1;32m~\\AppData\\Roaming\\Python\\Python38\\site-packages\\selenium\\webdriver\\remote\\webdriver.py\u001b[0m in \u001b[0;36mexecute\u001b[1;34m(self, driver_command, params)\u001b[0m\n\u001b[0;32m    319\u001b[0m         \u001b[0mresponse\u001b[0m \u001b[1;33m=\u001b[0m \u001b[0mself\u001b[0m\u001b[1;33m.\u001b[0m\u001b[0mcommand_executor\u001b[0m\u001b[1;33m.\u001b[0m\u001b[0mexecute\u001b[0m\u001b[1;33m(\u001b[0m\u001b[0mdriver_command\u001b[0m\u001b[1;33m,\u001b[0m \u001b[0mparams\u001b[0m\u001b[1;33m)\u001b[0m\u001b[1;33m\u001b[0m\u001b[1;33m\u001b[0m\u001b[0m\n\u001b[0;32m    320\u001b[0m         \u001b[1;32mif\u001b[0m \u001b[0mresponse\u001b[0m\u001b[1;33m:\u001b[0m\u001b[1;33m\u001b[0m\u001b[1;33m\u001b[0m\u001b[0m\n\u001b[1;32m--> 321\u001b[1;33m             \u001b[0mself\u001b[0m\u001b[1;33m.\u001b[0m\u001b[0merror_handler\u001b[0m\u001b[1;33m.\u001b[0m\u001b[0mcheck_response\u001b[0m\u001b[1;33m(\u001b[0m\u001b[0mresponse\u001b[0m\u001b[1;33m)\u001b[0m\u001b[1;33m\u001b[0m\u001b[1;33m\u001b[0m\u001b[0m\n\u001b[0m\u001b[0;32m    322\u001b[0m             response['value'] = self._unwrap_value(\n\u001b[0;32m    323\u001b[0m                 response.get('value', None))\n",
      "\u001b[1;32m~\\AppData\\Roaming\\Python\\Python38\\site-packages\\selenium\\webdriver\\remote\\errorhandler.py\u001b[0m in \u001b[0;36mcheck_response\u001b[1;34m(self, response)\u001b[0m\n\u001b[0;32m    240\u001b[0m                 \u001b[0malert_text\u001b[0m \u001b[1;33m=\u001b[0m \u001b[0mvalue\u001b[0m\u001b[1;33m[\u001b[0m\u001b[1;34m'alert'\u001b[0m\u001b[1;33m]\u001b[0m\u001b[1;33m.\u001b[0m\u001b[0mget\u001b[0m\u001b[1;33m(\u001b[0m\u001b[1;34m'text'\u001b[0m\u001b[1;33m)\u001b[0m\u001b[1;33m\u001b[0m\u001b[1;33m\u001b[0m\u001b[0m\n\u001b[0;32m    241\u001b[0m             \u001b[1;32mraise\u001b[0m \u001b[0mexception_class\u001b[0m\u001b[1;33m(\u001b[0m\u001b[0mmessage\u001b[0m\u001b[1;33m,\u001b[0m \u001b[0mscreen\u001b[0m\u001b[1;33m,\u001b[0m \u001b[0mstacktrace\u001b[0m\u001b[1;33m,\u001b[0m \u001b[0malert_text\u001b[0m\u001b[1;33m)\u001b[0m\u001b[1;33m\u001b[0m\u001b[1;33m\u001b[0m\u001b[0m\n\u001b[1;32m--> 242\u001b[1;33m         \u001b[1;32mraise\u001b[0m \u001b[0mexception_class\u001b[0m\u001b[1;33m(\u001b[0m\u001b[0mmessage\u001b[0m\u001b[1;33m,\u001b[0m \u001b[0mscreen\u001b[0m\u001b[1;33m,\u001b[0m \u001b[0mstacktrace\u001b[0m\u001b[1;33m)\u001b[0m\u001b[1;33m\u001b[0m\u001b[1;33m\u001b[0m\u001b[0m\n\u001b[0m\u001b[0;32m    243\u001b[0m \u001b[1;33m\u001b[0m\u001b[0m\n\u001b[0;32m    244\u001b[0m     \u001b[1;32mdef\u001b[0m \u001b[0m_value_or_default\u001b[0m\u001b[1;33m(\u001b[0m\u001b[0mself\u001b[0m\u001b[1;33m,\u001b[0m \u001b[0mobj\u001b[0m\u001b[1;33m,\u001b[0m \u001b[0mkey\u001b[0m\u001b[1;33m,\u001b[0m \u001b[0mdefault\u001b[0m\u001b[1;33m)\u001b[0m\u001b[1;33m:\u001b[0m\u001b[1;33m\u001b[0m\u001b[1;33m\u001b[0m\u001b[0m\n",
      "\u001b[1;31mSessionNotCreatedException\u001b[0m: Message: session not created: This version of ChromeDriver only supports Chrome version 83\n"
     ]
    }
   ],
   "source": [
    "# 드라이버를 실행하여, 웹페이지 열기\n",
    "driver = webdriver.Chrome('chromedriver')"
   ]
  },
  {
   "cell_type": "code",
   "execution_count": null,
   "metadata": {},
   "outputs": [],
   "source": [
    "# 드라이버 종료하여 웹페이지 끄기 \n",
    "driver.quit()"
   ]
  },
  {
   "cell_type": "markdown",
   "metadata": {},
   "source": [
    "## 예제1. 이마트 물품데이터 크롤링 "
   ]
  },
  {
   "cell_type": "markdown",
   "metadata": {},
   "source": [
    "**웹사이트 접속**"
   ]
  },
  {
   "cell_type": "code",
   "execution_count": 4,
   "metadata": {},
   "outputs": [],
   "source": [
    "driver = webdriver.Chrome('chromedriver')\n",
    "driver.get('http://emart.ssg.com/')"
   ]
  },
  {
   "cell_type": "code",
   "execution_count": 5,
   "metadata": {},
   "outputs": [],
   "source": [
    "driver.find_element_by_xpath('//*[@id=\"e_gnb\"]/div/div[1]/div[2]/ul[1]/li[5]/a').click()"
   ]
  },
  {
   "cell_type": "code",
   "execution_count": 6,
   "metadata": {},
   "outputs": [],
   "source": [
    "# (가로, 세로) - 800 * 600 픽셀의 사이즈로 오픈 \n",
    "driver.set_window_size(800, 600)"
   ]
  },
  {
   "cell_type": "code",
   "execution_count": 7,
   "metadata": {},
   "outputs": [
    {
     "name": "stderr",
     "output_type": "stream",
     "text": [
      "C:\\ProgramData\\Anaconda3\\lib\\site-packages\\ipykernel_launcher.py:5: DeprecationWarning: use options instead of chrome_options\n",
      "  \"\"\"\n"
     ]
    }
   ],
   "source": [
    "# 전체화면으로 전환 하여 실행 \n",
    "options = webdriver.chrome.options.Options()\n",
    "options.add_argument('--start-fullscreen')\n",
    "\n",
    "driver = webdriver.Chrome('chromedriver', chrome_options=options)\n",
    "driver.get('http://emart.ssg.com/')"
   ]
  },
  {
   "cell_type": "code",
   "execution_count": 8,
   "metadata": {},
   "outputs": [],
   "source": [
    "# 좌측 메뉴에 과일 항목 추출하기 \n",
    "driver.find_element_by_xpath('//*[@id=\"e_gnb\"]/div/div[1]/div[2]/ul[1]/li[1]/a').click()"
   ]
  },
  {
   "cell_type": "markdown",
   "metadata": {},
   "source": [
    "**데이터 추출해 변수로 선언하기**"
   ]
  },
  {
   "cell_type": "code",
   "execution_count": 9,
   "metadata": {},
   "outputs": [],
   "source": [
    "# 데이터 추출하기 \n",
    "product_name = driver.find_element_by_xpath('//*[@id=\"ty_thmb_view\"]/ul/li[1]/div[2]/div[2]/div/a/em[1]')\n",
    "product_price = driver.find_element_by_xpath('//*[@id=\"ty_thmb_view\"]/ul/li[1]/div[2]/div[3]/div/em')"
   ]
  },
  {
   "cell_type": "code",
   "execution_count": 10,
   "metadata": {},
   "outputs": [
    {
     "data": {
      "text/plain": [
       "'[콜롬비아산] 바나밸리 프레쉬 바나나 1송이'"
      ]
     },
     "execution_count": 10,
     "metadata": {},
     "output_type": "execute_result"
    }
   ],
   "source": [
    "# 제품 이름 가져오기 \n",
    "product_name.text"
   ]
  },
  {
   "cell_type": "code",
   "execution_count": 11,
   "metadata": {},
   "outputs": [
    {
     "data": {
      "text/plain": [
       "'2,980'"
      ]
     },
     "execution_count": 11,
     "metadata": {},
     "output_type": "execute_result"
    }
   ],
   "source": [
    "# 제품 가격 가져오기 \n",
    "product_price.text"
   ]
  },
  {
   "cell_type": "markdown",
   "metadata": {},
   "source": [
    "**반복적으로 구성되어 있는 여러 항목 추출 하기**"
   ]
  },
  {
   "cell_type": "code",
   "execution_count": 12,
   "metadata": {},
   "outputs": [
    {
     "data": {
      "text/plain": [
       "'//*[@id=\"ty_thmb_view\"]/ul/li[3]/div[2]/div[2]/div/a/em[1]'"
      ]
     },
     "execution_count": 12,
     "metadata": {},
     "output_type": "execute_result"
    }
   ],
   "source": [
    "'//*[@id=\"ty_thmb_view\"]/ul/li[1]/div[2]/div[2]/div/a/em[1]'\n",
    "'//*[@id=\"ty_thmb_view\"]/ul/li[3]/div[2]/div[2]/div/a/em[1]'"
   ]
  },
  {
   "cell_type": "code",
   "execution_count": 13,
   "metadata": {},
   "outputs": [],
   "source": [
    "product_name_list = [ ]\n",
    "for i in range(1,80+1):\n",
    "    product_name = driver.find_element_by_xpath('//*[@id=\"ty_thmb_view\"]/ul/li['+str(i)+']/div[2]/div[2]/div/a/em[1]')\n",
    "    product_name_list.append(product_name.text)"
   ]
  },
  {
   "cell_type": "code",
   "execution_count": 14,
   "metadata": {},
   "outputs": [
    {
     "data": {
      "text/plain": [
       "['[콜롬비아산] 바나밸리 프레쉬 바나나 1송이',\n",
       " '[국내산] 초록사과 5~8입/봉',\n",
       " '[국내산] 당도선별 하우스감귤 1.4kg/팩',\n",
       " '[필리핀산] Dole 스위티오바나나 1.3kg 내외',\n",
       " '[국내산] 친환경 대추방울토마토 750g/팩',\n",
       " '[국내산] 무농약 토마토 1kg/봉',\n",
       " '[뉴질랜드산] 제스프리 썬골드키위 7~14입/팩',\n",
       " '[국내산] 990 세척사과/봉',\n",
       " '[국내산] 산(山) 수박 9kg미만',\n",
       " '[국산의 힘] 무지개 방울토마토 900g/팩',\n",
       " '[국내산] 당찬사과 4-7입/봉',\n",
       " '[국내산] 완숙토마토 6~8입/팩',\n",
       " '[국내산] 아삭 복숭아 7~12입/박스',\n",
       " '[미국산] 냉동 블루베리 1.5kg/봉',\n",
       " '[국내산] 친환경 방울토마토 기획 500g*2입/팩',\n",
       " '[국내산] 산(山) 수박 10kg이상',\n",
       " '[국내산] 하루과일 배 1입',\n",
       " '[국내산] 지리산 흥부골 포도 1.5kg/박스',\n",
       " '[필리핀산] 델몬트 컷파인애플 540g/팩',\n",
       " '[페루산] 냉동 애플 망고 300g',\n",
       " '[페루산] 냉동 애플망고 2.27kg',\n",
       " '[국내산] 친환경 토마토 3kg/박스',\n",
       " '[국내산] 천도복숭아 2kg/팩',\n",
       " '[국내산] 성주참외 3~8입/봉',\n",
       " '[미국산] 씨없는 청포도 900g/팩',\n",
       " '[국내산] 산(山) 수박 10kg미만',\n",
       " '[국내산] 거봉 2~4송이/박스',\n",
       " '[미국산] 문(Moon)체리 100g',\n",
       " '[콜롬비아산] 유기농 바나나 1.2kg 내외',\n",
       " '[국내산] 샤인머스켓 500g/팩',\n",
       " '[국내산] 무농약 블루베리 200g/팩',\n",
       " '저탄소 아삭 복숭아 5~7입/팩',\n",
       " '[국내산] 부드러운 복숭아 5~12입/박스',\n",
       " '[콜롬비아산] 하루하나 바나나 6개/팩',\n",
       " '[에콰도르산] 하루과일 바나나 2입/봉',\n",
       " '[페루산] 아보카도 4입/망',\n",
       " '[미국산] 냉동 블루베리 1.13kg/팩',\n",
       " '[국내산] 두번 엄선한 국산 냉동딸기1kg x 2봉',\n",
       " '[국내산] 프리미엄 탑감귤 1kg',\n",
       " '[국내산] 깜빠리 토마토 1kg/팩',\n",
       " '[미국산] 레몬 9~15입/봉',\n",
       " '[칠레산] 레몬 1개',\n",
       " '[국내산] 하루과일 토마토/봉',\n",
       " '[뉴질랜드산] 제스프리 썬골드키위 2입/봉',\n",
       " '[미국산] 씨없는 혼합포도 1.36kg/팩',\n",
       " '[국내산] 왕 천도복숭아 6입/팩',\n",
       " '크리스피 야채믹스칩 180g',\n",
       " '건크랜베리 500g',\n",
       " '[베트남산] 스위트망고 1.3kg',\n",
       " '[미국산] 허니듀 1통 (특대)',\n",
       " '[국내산] 방울토마토 1kg/팩',\n",
       " '[국내산] 청정강원 쿠마토 1.2kg/팩',\n",
       " '[국내산] 맑은청 대추 방울 토마토 1kg/팩',\n",
       " '[국내산] 천도복숭아 1개 (특)',\n",
       " '유기농 테일러푸룬 건자두 210g',\n",
       " '저탄소 인증 천도복숭아 1.5kg/팩',\n",
       " '요리하기 좋은 반쪽 아보카도 1kg(500g*2개입)',\n",
       " '[필리핀산] Dole 컷파인애플 540g',\n",
       " '[국내산] 대추방울토마토 1kg/팩',\n",
       " '[국내산] 달짝이 토마토 750g/팩',\n",
       " '저탄소 인증 초록사과 4~7입/봉',\n",
       " '[미국산] 오레곤 블루베리 510g/팩',\n",
       " '[국산의 힘] 원황배 4~7입/박스',\n",
       " '[국내산] 친환경 대추방울토마토 기획 2kg/박스',\n",
       " '다바오 바나나칩 450g',\n",
       " '[국내산] 건대추 (200g)',\n",
       " '[뉴질랜드산] 유기농 제스프리 썬골드키위/팩',\n",
       " '[피코크] 딸기 그대로 10g',\n",
       " '[미국산] 생블루베리 310g/팩',\n",
       " '[국내산] 친환경 칼라방울토마토 500g/팩',\n",
       " '[국내산] 그린 머스크메론 1통 (1.5kg 이상)',\n",
       " '[국내산] 나 혼자 수박',\n",
       " '[국내산] 강원 찰토마토 7~10입/팩',\n",
       " '[필리핀산]델몬트 파인애플스틱 6입/팩',\n",
       " '두번 엄선한 오색베리 500g',\n",
       " '땅끝 해남에서 온 고구마말랭이 180g (60g*3개입)',\n",
       " '냉동블루베리+망고 기획세트',\n",
       " '[뉴질랜드산] 제스프리그린키위/팩',\n",
       " '[칠레산] 냉동 트리플베리 300g',\n",
       " '[미국산] 뿌려먹는 레몬 5입/팩']"
      ]
     },
     "execution_count": 14,
     "metadata": {},
     "output_type": "execute_result"
    }
   ],
   "source": [
    "product_name_list"
   ]
  },
  {
   "cell_type": "markdown",
   "metadata": {},
   "source": [
    "**이미지 데이터 가져오기**"
   ]
  },
  {
   "cell_type": "code",
   "execution_count": 15,
   "metadata": {
    "scrolled": true
   },
   "outputs": [
    {
     "data": {
      "text/plain": [
       "'http://item.ssgcdn.com/53/94/67/item/1000048679453_i1_290.jpg'"
      ]
     },
     "execution_count": 15,
     "metadata": {},
     "output_type": "execute_result"
    }
   ],
   "source": [
    "# 이미지 URL 가져오기 \n",
    "img = driver.find_element_by_xpath('//*[@id=\"ty_thmb_view\"]/ul/li[1]/div[1]/div[2]/a/img[1]')\n",
    "img.get_attribute('src')"
   ]
  },
  {
   "cell_type": "code",
   "execution_count": 16,
   "metadata": {},
   "outputs": [
    {
     "data": {
      "text/plain": [
       "('img001.png', <http.client.HTTPMessage at 0x260dc3af5c8>)"
      ]
     },
     "execution_count": 16,
     "metadata": {},
     "output_type": "execute_result"
    }
   ],
   "source": [
    "# 이미지 데이터를 현재 작업공간에 저장 \n",
    "import urllib.request\n",
    "img1 = img.get_attribute('src')\n",
    "urllib.request.urlretrieve(img1, 'image_data/img001.png')"
   ]
  },
  {
   "cell_type": "code",
   "execution_count": 17,
   "metadata": {},
   "outputs": [],
   "source": [
    "# For 문을 이용하여, 페이지 내 모든 이미지 저장 \n",
    "for i in range(1,80+1):\n",
    "    img = driver.find_element_by_xpath('//*[@id=\"ty_thmb_view\"]/ul/li['+str(i)+']/div[1]/div[2]/a/img[1]')\n",
    "    img1 = img.get_attribute('src')\n",
    "    urllib.request.urlretrieve(img1, 'image_data/img00'+str(i)+'.png')"
   ]
  },
  {
   "cell_type": "markdown",
   "metadata": {},
   "source": [
    "**데이터를 불러와 파일 형태로 저장하기**"
   ]
  },
  {
   "cell_type": "code",
   "execution_count": 18,
   "metadata": {},
   "outputs": [],
   "source": [
    "product_name_list = [ ]\n",
    "price_list = [ ]\n",
    "img_list = [ ]\n",
    "for i in range(1,80+1):\n",
    "    product_name = driver.find_element_by_xpath('//*[@id=\"ty_thmb_view\"]/ul/li['+str(i)+']/div[2]/div[2]/div/a/em[1]')\n",
    "    price = driver.find_element_by_xpath('//*[@id=\"ty_thmb_view\"]/ul/li['+str(i)+']/div[2]/div[3]/div/em')\n",
    "    img = driver.find_element_by_xpath('//*[@id=\"ty_thmb_view\"]/ul/li['+str(i)+']/div[1]/div[2]/a/img[1]')\n",
    "    img_url = img.get_attribute('src')\n",
    "    \n",
    "    product_name_list.append(product_name.text)\n",
    "    price_list.append(price.text)\n",
    "    img_list.append(img_url)"
   ]
  },
  {
   "cell_type": "code",
   "execution_count": 19,
   "metadata": {},
   "outputs": [
    {
     "data": {
      "text/plain": [
       "['[콜롬비아산] 바나밸리 프레쉬 바나나 1송이',\n",
       " '[국내산] 초록사과 5~8입/봉',\n",
       " '[국내산] 당도선별 하우스감귤 1.4kg/팩',\n",
       " '[필리핀산] Dole 스위티오바나나 1.3kg 내외',\n",
       " '[국내산] 친환경 대추방울토마토 750g/팩',\n",
       " '[국내산] 무농약 토마토 1kg/봉',\n",
       " '[뉴질랜드산] 제스프리 썬골드키위 7~14입/팩',\n",
       " '[국내산] 990 세척사과/봉',\n",
       " '[국내산] 산(山) 수박 9kg미만',\n",
       " '[국산의 힘] 무지개 방울토마토 900g/팩',\n",
       " '[국내산] 당찬사과 4-7입/봉',\n",
       " '[국내산] 완숙토마토 6~8입/팩',\n",
       " '[국내산] 아삭 복숭아 7~12입/박스',\n",
       " '[미국산] 냉동 블루베리 1.5kg/봉',\n",
       " '[국내산] 친환경 방울토마토 기획 500g*2입/팩',\n",
       " '[국내산] 산(山) 수박 10kg이상',\n",
       " '[국내산] 하루과일 배 1입',\n",
       " '[국내산] 지리산 흥부골 포도 1.5kg/박스',\n",
       " '[필리핀산] 델몬트 컷파인애플 540g/팩',\n",
       " '[페루산] 냉동 애플 망고 300g',\n",
       " '[페루산] 냉동 애플망고 2.27kg',\n",
       " '[국내산] 친환경 토마토 3kg/박스',\n",
       " '[국내산] 천도복숭아 2kg/팩',\n",
       " '[국내산] 성주참외 3~8입/봉',\n",
       " '[미국산] 씨없는 청포도 900g/팩',\n",
       " '[국내산] 산(山) 수박 10kg미만',\n",
       " '[국내산] 거봉 2~4송이/박스',\n",
       " '[미국산] 문(Moon)체리 100g',\n",
       " '[콜롬비아산] 유기농 바나나 1.2kg 내외',\n",
       " '[국내산] 샤인머스켓 500g/팩',\n",
       " '[국내산] 무농약 블루베리 200g/팩',\n",
       " '저탄소 아삭 복숭아 5~7입/팩',\n",
       " '[국내산] 부드러운 복숭아 5~12입/박스',\n",
       " '[콜롬비아산] 하루하나 바나나 6개/팩',\n",
       " '[에콰도르산] 하루과일 바나나 2입/봉',\n",
       " '[페루산] 아보카도 4입/망',\n",
       " '[미국산] 냉동 블루베리 1.13kg/팩',\n",
       " '[국내산] 두번 엄선한 국산 냉동딸기1kg x 2봉',\n",
       " '[국내산] 프리미엄 탑감귤 1kg',\n",
       " '[국내산] 깜빠리 토마토 1kg/팩',\n",
       " '[미국산] 레몬 9~15입/봉',\n",
       " '[칠레산] 레몬 1개',\n",
       " '[국내산] 하루과일 토마토/봉',\n",
       " '[뉴질랜드산] 제스프리 썬골드키위 2입/봉',\n",
       " '[미국산] 씨없는 혼합포도 1.36kg/팩',\n",
       " '[국내산] 왕 천도복숭아 6입/팩',\n",
       " '크리스피 야채믹스칩 180g',\n",
       " '건크랜베리 500g',\n",
       " '[베트남산] 스위트망고 1.3kg',\n",
       " '[미국산] 허니듀 1통 (특대)',\n",
       " '[국내산] 방울토마토 1kg/팩',\n",
       " '[국내산] 청정강원 쿠마토 1.2kg/팩',\n",
       " '[국내산] 맑은청 대추 방울 토마토 1kg/팩',\n",
       " '[국내산] 천도복숭아 1개 (특)',\n",
       " '유기농 테일러푸룬 건자두 210g',\n",
       " '저탄소 인증 천도복숭아 1.5kg/팩',\n",
       " '요리하기 좋은 반쪽 아보카도 1kg(500g*2개입)',\n",
       " '[필리핀산] Dole 컷파인애플 540g',\n",
       " '[국내산] 대추방울토마토 1kg/팩',\n",
       " '[국내산] 달짝이 토마토 750g/팩',\n",
       " '저탄소 인증 초록사과 4~7입/봉',\n",
       " '[미국산] 오레곤 블루베리 510g/팩',\n",
       " '[국산의 힘] 원황배 4~7입/박스',\n",
       " '[국내산] 친환경 대추방울토마토 기획 2kg/박스',\n",
       " '다바오 바나나칩 450g',\n",
       " '[국내산] 건대추 (200g)',\n",
       " '[뉴질랜드산] 유기농 제스프리 썬골드키위/팩',\n",
       " '[피코크] 딸기 그대로 10g',\n",
       " '[미국산] 생블루베리 310g/팩',\n",
       " '[국내산] 친환경 칼라방울토마토 500g/팩',\n",
       " '[국내산] 그린 머스크메론 1통 (1.5kg 이상)',\n",
       " '[국내산] 나 혼자 수박',\n",
       " '[국내산] 강원 찰토마토 7~10입/팩',\n",
       " '[필리핀산]델몬트 파인애플스틱 6입/팩',\n",
       " '두번 엄선한 오색베리 500g',\n",
       " '땅끝 해남에서 온 고구마말랭이 180g (60g*3개입)',\n",
       " '냉동블루베리+망고 기획세트',\n",
       " '[뉴질랜드산] 제스프리그린키위/팩',\n",
       " '[칠레산] 냉동 트리플베리 300g',\n",
       " '[미국산] 뿌려먹는 레몬 5입/팩']"
      ]
     },
     "execution_count": 19,
     "metadata": {},
     "output_type": "execute_result"
    }
   ],
   "source": [
    "product_name_list"
   ]
  },
  {
   "cell_type": "code",
   "execution_count": 20,
   "metadata": {},
   "outputs": [],
   "source": [
    "import pandas as pd "
   ]
  },
  {
   "cell_type": "code",
   "execution_count": 21,
   "metadata": {},
   "outputs": [
    {
     "data": {
      "text/html": [
       "<div>\n",
       "<style scoped>\n",
       "    .dataframe tbody tr th:only-of-type {\n",
       "        vertical-align: middle;\n",
       "    }\n",
       "\n",
       "    .dataframe tbody tr th {\n",
       "        vertical-align: top;\n",
       "    }\n",
       "\n",
       "    .dataframe thead th {\n",
       "        text-align: right;\n",
       "    }\n",
       "</style>\n",
       "<table border=\"1\" class=\"dataframe\">\n",
       "  <thead>\n",
       "    <tr style=\"text-align: right;\">\n",
       "      <th></th>\n",
       "      <th>상품명</th>\n",
       "      <th>상품금액</th>\n",
       "      <th>이미지URL</th>\n",
       "    </tr>\n",
       "  </thead>\n",
       "  <tbody>\n",
       "    <tr>\n",
       "      <td>0</td>\n",
       "      <td>[콜롬비아산] 바나밸리 프레쉬 바나나 1송이</td>\n",
       "      <td>2,980</td>\n",
       "      <td>http://item.ssgcdn.com/53/94/67/item/100004867...</td>\n",
       "    </tr>\n",
       "    <tr>\n",
       "      <td>1</td>\n",
       "      <td>[국내산] 초록사과 5~8입/봉</td>\n",
       "      <td>7,980</td>\n",
       "      <td>http://item.ssgcdn.com/66/65/00/item/000001000...</td>\n",
       "    </tr>\n",
       "    <tr>\n",
       "      <td>2</td>\n",
       "      <td>[국내산] 당도선별 하우스감귤 1.4kg/팩</td>\n",
       "      <td>13,900</td>\n",
       "      <td>http://item.ssgcdn.com/92/65/45/item/000001045...</td>\n",
       "    </tr>\n",
       "    <tr>\n",
       "      <td>3</td>\n",
       "      <td>[필리핀산] Dole 스위티오바나나 1.3kg 내외</td>\n",
       "      <td>4,980</td>\n",
       "      <td>http://item.ssgcdn.com/31/32/54/item/100003354...</td>\n",
       "    </tr>\n",
       "    <tr>\n",
       "      <td>4</td>\n",
       "      <td>[국내산] 친환경 대추방울토마토 750g/팩</td>\n",
       "      <td>5,980</td>\n",
       "      <td>http://item.ssgcdn.com/09/60/56/item/100002656...</td>\n",
       "    </tr>\n",
       "  </tbody>\n",
       "</table>\n",
       "</div>"
      ],
      "text/plain": [
       "                            상품명    상품금액  \\\n",
       "0      [콜롬비아산] 바나밸리 프레쉬 바나나 1송이   2,980   \n",
       "1             [국내산] 초록사과 5~8입/봉   7,980   \n",
       "2      [국내산] 당도선별 하우스감귤 1.4kg/팩  13,900   \n",
       "3  [필리핀산] Dole 스위티오바나나 1.3kg 내외   4,980   \n",
       "4      [국내산] 친환경 대추방울토마토 750g/팩   5,980   \n",
       "\n",
       "                                              이미지URL  \n",
       "0  http://item.ssgcdn.com/53/94/67/item/100004867...  \n",
       "1  http://item.ssgcdn.com/66/65/00/item/000001000...  \n",
       "2  http://item.ssgcdn.com/92/65/45/item/000001045...  \n",
       "3  http://item.ssgcdn.com/31/32/54/item/100003354...  \n",
       "4  http://item.ssgcdn.com/09/60/56/item/100002656...  "
      ]
     },
     "execution_count": 21,
     "metadata": {},
     "output_type": "execute_result"
    }
   ],
   "source": [
    "df1 = pd.DataFrame({'상품명':product_name_list, '상품금액':price_list, '이미지URL':img_list})\n",
    "df1.shape\n",
    "df1.head()"
   ]
  },
  {
   "cell_type": "code",
   "execution_count": 22,
   "metadata": {},
   "outputs": [],
   "source": [
    "#파일 저장 (CSV)\n",
    "df1.to_csv('data1.csv')\n",
    "# 파일 저장 (Excel)\n",
    "df1.to_excel('data1.xlsx')"
   ]
  },
  {
   "cell_type": "code",
   "execution_count": 23,
   "metadata": {},
   "outputs": [],
   "source": [
    "# 한글 깨질 시 인코딩 하여 저장 \n",
    "df1.to_csv('data1.csv',encoding='cp949')"
   ]
  },
  {
   "cell_type": "code",
   "execution_count": 24,
   "metadata": {},
   "outputs": [],
   "source": [
    "driver.quit()"
   ]
  },
  {
   "cell_type": "code",
   "execution_count": null,
   "metadata": {},
   "outputs": [],
   "source": [
    "print('Done')"
   ]
  }
 ],
 "metadata": {
  "kernelspec": {
   "display_name": "Python 3",
   "language": "python",
   "name": "python3"
  },
  "language_info": {
   "codemirror_mode": {
    "name": "ipython",
    "version": 3
   },
   "file_extension": ".py",
   "mimetype": "text/x-python",
   "name": "python",
   "nbconvert_exporter": "python",
   "pygments_lexer": "ipython3",
   "version": "3.8.6"
  },
  "toc": {
   "base_numbering": 1,
   "nav_menu": {},
   "number_sections": true,
   "sideBar": true,
   "skip_h1_title": false,
   "title_cell": "Table of Contents",
   "title_sidebar": "Contents",
   "toc_cell": false,
   "toc_position": {},
   "toc_section_display": true,
   "toc_window_display": false
  }
 },
 "nbformat": 4,
 "nbformat_minor": 4
}
